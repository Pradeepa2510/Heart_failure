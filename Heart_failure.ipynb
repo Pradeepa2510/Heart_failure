{
  "nbformat": 4,
  "nbformat_minor": 0,
  "metadata": {
    "colab": {
      "provenance": [],
      "authorship_tag": "ABX9TyMkp3DTHgFcTeItao+hT8GC",
      "include_colab_link": true
    },
    "kernelspec": {
      "name": "python3",
      "display_name": "Python 3"
    },
    "language_info": {
      "name": "python"
    }
  },
  "cells": [
    {
      "cell_type": "markdown",
      "metadata": {
        "id": "view-in-github",
        "colab_type": "text"
      },
      "source": [
        "<a href=\"https://colab.research.google.com/github/Pradeepa2510/Heart_failure/blob/main/Heart_failure.ipynb\" target=\"_parent\"><img src=\"https://colab.research.google.com/assets/colab-badge.svg\" alt=\"Open In Colab\"/></a>"
      ]
    },
    {
      "cell_type": "code",
      "execution_count": 2,
      "metadata": {
        "colab": {
          "base_uri": "https://localhost:8080/"
        },
        "id": "1Zo2EMteM27B",
        "outputId": "17877455-a3f3-416a-e5b8-7ad3ba634b35"
      },
      "outputs": [
        {
          "output_type": "stream",
          "name": "stdout",
          "text": [
            "John's Health Status: Good\n"
          ]
        }
      ],
      "source": [
        "class HealthMonitor:\n",
        "    def __init__(self, name, age):\n",
        "        self.name = name\n",
        "        self.age = age\n",
        "        self.blood_pressure = {'systolic': 120, 'diastolic': 80}\n",
        "        self.cholesterol = 200\n",
        "        self.blood_sugar = 90\n",
        "\n",
        "    def update_blood_pressure(self, systolic, diastolic):\n",
        "        self.blood_pressure['systolic'] = systolic\n",
        "        self.blood_pressure['diastolic'] = diastolic\n",
        "\n",
        "    def update_cholesterol(self, cholesterol):\n",
        "        self.cholesterol = cholesterol\n",
        "\n",
        "    def update_blood_sugar(self, blood_sugar):\n",
        "        self.blood_sugar = blood_sugar\n",
        "\n",
        "    def check_health_status(self):\n",
        "        health_status = \"Good\"\n",
        "        if self.blood_pressure['systolic'] > 140 or self.blood_pressure['diastolic'] > 90:\n",
        "            health_status = \"High Blood Pressure\"\n",
        "        if self.cholesterol > 240:\n",
        "            health_status = \"High Cholesterol\"\n",
        "        if self.blood_sugar > 130:\n",
        "            health_status = \"High Blood Sugar\"\n",
        "        return health_status\n",
        "\n",
        "# Example usage\n",
        "if __name__ == \"__main__\":\n",
        "    # Create a health monitor for a person\n",
        "    person = HealthMonitor(\"John\", 35)\n",
        "\n",
        "    # Update health parameters\n",
        "    person.update_blood_pressure(130, 85)\n",
        "    person.update_cholesterol(180)\n",
        "    person.update_blood_sugar(95)\n",
        "\n",
        "    # Check health status\n",
        "    print(f\"{person.name}'s Health Status: {person.check_health_status()}\")"
      ]
    }
  ]
}